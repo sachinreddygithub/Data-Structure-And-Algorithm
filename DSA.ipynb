{
  "cells": [
    {
      "cell_type": "markdown",
      "metadata": {
        "id": "view-in-github",
        "colab_type": "text"
      },
      "source": [
        "<a href=\"https://colab.research.google.com/github/sachinreddygithub/Data-Structure-And-Algorithm/blob/main/DSA.ipynb\" target=\"_parent\"><img src=\"https://colab.research.google.com/assets/colab-badge.svg\" alt=\"Open In Colab\"/></a>"
      ]
    },
    {
      "cell_type": "markdown",
      "metadata": {
        "id": "AWBT60Ze7ofi"
      },
      "source": [
        "# **Implemention of stack in python**\n",
        "\n",
        "1.   **using LISTS**\n",
        "    \n",
        "    . POP()\n",
        "\n",
        "    .PUSH()\n",
        "2.  ** MODULES**\n",
        "    \n",
        "    . COLLECTION.Deque()\n",
        "\n",
        "    . QUEUE.Lifoqueue()\n",
        "\n"
      ]
    },
    {
      "cell_type": "markdown",
      "metadata": {
        "id": "k6Io1NsX9DYQ"
      },
      "source": [
        "# **USING LISTS**"
      ]
    },
    {
      "cell_type": "code",
      "source": [
        "stack=[]\n",
        "def push():\n",
        "    enter=input(\"enter the element: \")\n",
        "    stack.append(enter)\n",
        "    print(\"the pushed ele:\")\n",
        "    print(stack)\n",
        "    \n",
        "def pop():\n",
        "    if not stack:\n",
        "        print(\"the stack is empty!\")\n",
        "    else:\n",
        "      e=stack.pop()\n",
        "      print(\"the poped ele\", e)\n",
        "      print(stack)\n",
        "      \n",
        "while True:\n",
        "    print(\"enter the choice 1,push  2,pop  3,quite\")\n",
        "    choice=int(input())\n",
        "    if choice==1:\n",
        "        push()\n",
        "    elif choice==2:\n",
        "        pop()\n",
        "    elif choice==3:\n",
        "        break\n",
        "    else:\n",
        "      print(\"please choice correct operation\")"
      ],
      "metadata": {
        "id": "kL1EHuKF7nIC"
      },
      "execution_count": null,
      "outputs": []
    },
    {
      "cell_type": "markdown",
      "metadata": {
        "id": "2IFvCggJ3uXu"
      },
      "source": [
        "# **STACK LIMIT**"
      ]
    },
    {
      "cell_type": "code",
      "execution_count": null,
      "metadata": {
        "id": "c7hEB6wT3t8l"
      },
      "outputs": [],
      "source": [
        "stack=[]\n",
        "def push():\n",
        "  if len(stack)==n:\n",
        "    print(\"YOu reached u'r limit : \")\n",
        "  else:  \n",
        "    enter=input(\"enter the element: \")\n",
        "    stack.append(enter)\n",
        "    print(\"the pushed ele:\")\n",
        "    print(stack)\n",
        "    \n",
        "def pop():\n",
        "    if not stack:\n",
        "        print(\"the stack is empty!\")\n",
        "    else:\n",
        "        e = stack.pop()\n",
        "        print(\"the poped ele\", e)\n",
        "        print(stack)\n",
        "\n",
        "n=int(input(\"enter the limit: \"))        \n",
        "while True:\n",
        "    print(\"enter the choice 1,push  2,pop  3,quite\")\n",
        "    choice=int(input())\n",
        "    if choice==1:\n",
        "        push()\n",
        "    elif choice==2:\n",
        "        pop()\n",
        "    elif choice==3:\n",
        "        break\n",
        "    else:\n",
        "        print(\"please choice correct operation\")\n"
      ]
    },
    {
      "cell_type": "markdown",
      "metadata": {
        "id": "4rIyekcW9PBY"
      },
      "source": [
        "## **USING MODULES**\n",
        "  .# collections"
      ]
    },
    {
      "cell_type": "code",
      "execution_count": null,
      "metadata": {
        "id": "m1ZRY6_n9V8w"
      },
      "outputs": [],
      "source": [
        "import collections\n",
        "stack=collections.deque()"
      ]
    },
    {
      "cell_type": "code",
      "execution_count": null,
      "metadata": {
        "id": "HKbMeju09uDu"
      },
      "outputs": [],
      "source": [
        "stack.append(10)\n",
        "stack.append(30)\n",
        "stack.append(50)\n",
        "stack.append(60)\n",
        "stack"
      ]
    },
    {
      "cell_type": "code",
      "execution_count": null,
      "metadata": {
        "id": "LjjdTojK_KFk"
      },
      "outputs": [],
      "source": [
        "stack.pop()"
      ]
    },
    {
      "cell_type": "code",
      "execution_count": null,
      "metadata": {
        "id": "xhbqv4Jg_d6c"
      },
      "outputs": [],
      "source": [
        "stack.pop()"
      ]
    },
    {
      "cell_type": "markdown",
      "metadata": {
        "id": "lXgl02Ps_32Y"
      },
      "source": [
        "# **By importing QUEUE module**\n",
        ". LifoQueue()"
      ]
    },
    {
      "cell_type": "code",
      "execution_count": null,
      "metadata": {
        "id": "n_wTm0eGAKCE"
      },
      "outputs": [],
      "source": [
        "import queue\n",
        "stack=queue.LifoQueue()\n"
      ]
    },
    {
      "cell_type": "code",
      "execution_count": null,
      "metadata": {
        "id": "435NfwRwAm4m"
      },
      "outputs": [],
      "source": [
        "stack.put(10)\n",
        "stack.put(20)\n",
        "stack.put(30)\n",
        "stack.put(50)"
      ]
    },
    {
      "cell_type": "code",
      "execution_count": null,
      "metadata": {
        "id": "_4aypde3BNq-"
      },
      "outputs": [],
      "source": [
        "stack.get()"
      ]
    },
    {
      "cell_type": "markdown",
      "metadata": {
        "id": "W1Q1qeKtBuW4"
      },
      "source": [
        "# **setting a time out parameter for put() and get()**"
      ]
    },
    {
      "cell_type": "code",
      "execution_count": null,
      "metadata": {
        "id": "qw2-ZzsWBt4M"
      },
      "outputs": [],
      "source": [
        "import queue\n",
        "stack=queue.LifoQueue(4)\n",
        "stack.put(10)\n",
        "stack.put(20)\n",
        "stack.put(30)\n",
        "stack.put(50)"
      ]
    },
    {
      "cell_type": "code",
      "execution_count": null,
      "metadata": {
        "id": "LtuTdROTCbX4"
      },
      "outputs": [],
      "source": [
        "stack.put(80,timeout=1)"
      ]
    },
    {
      "cell_type": "code",
      "execution_count": null,
      "metadata": {
        "id": "MDahCJ4dC8Tr"
      },
      "outputs": [],
      "source": [
        "stack.get()"
      ]
    },
    {
      "cell_type": "code",
      "execution_count": null,
      "metadata": {
        "id": "tSUe4jBaC_QX"
      },
      "outputs": [],
      "source": [
        "stack.get()"
      ]
    },
    {
      "cell_type": "code",
      "execution_count": null,
      "metadata": {
        "id": "pJChqU-pDC0U"
      },
      "outputs": [],
      "source": [
        "stack.get()"
      ]
    },
    {
      "cell_type": "code",
      "execution_count": null,
      "metadata": {
        "id": "xx-nYTAsDHR6"
      },
      "outputs": [],
      "source": [
        "stack.get()"
      ]
    },
    {
      "cell_type": "code",
      "execution_count": null,
      "metadata": {
        "id": "WefeQH-oDKM6"
      },
      "outputs": [],
      "source": [
        "stack.get(timeout=1)"
      ]
    },
    {
      "cell_type": "markdown",
      "metadata": {
        "id": "SkbHkofmJxhY"
      },
      "source": [
        "# **2. QUEUE**"
      ]
    },
    {
      "cell_type": "code",
      "execution_count": null,
      "metadata": {
        "id": "8yQmSDUJJxE3"
      },
      "outputs": [],
      "source": [
        "queue=[]\n",
        "queue.append(1)\n",
        "queue.append(2)\n",
        "queue.append(3)\n",
        "queue.append(4)"
      ]
    },
    {
      "cell_type": "code",
      "execution_count": null,
      "metadata": {
        "id": "Socmn9A6KQII"
      },
      "outputs": [],
      "source": [
        "queue"
      ]
    },
    {
      "cell_type": "code",
      "execution_count": null,
      "metadata": {
        "id": "vMuxV4oNKW6A"
      },
      "outputs": [],
      "source": [
        "queue.pop(1)"
      ]
    },
    {
      "cell_type": "markdown",
      "metadata": {
        "id": "u-C5S93oLNpn"
      },
      "source": [
        "# **other way to insert or append values to queue**"
      ]
    },
    {
      "cell_type": "code",
      "execution_count": null,
      "metadata": {
        "id": "ZOnD4JVgKwNP"
      },
      "outputs": [],
      "source": [
        "queue.insert(0,49)\n",
        "queue.insert(0,50)\n",
        "queue.insert(0,60)\n",
        "queue.insert(0,70)\n",
        "queue"
      ]
    },
    {
      "cell_type": "code",
      "execution_count": null,
      "metadata": {
        "id": "uhHCrlBwLevk"
      },
      "outputs": [],
      "source": [
        "queue=[]\n",
        "def enqueue():\n",
        "  element=input(\"enter the element to append: \")\n",
        "  queue.append(element)\n",
        "  print(element,\"is appended\")\n",
        "\n",
        "def dequeue():\n",
        "  if not queue:\n",
        "    print(\"The queue is empty!\")  \n",
        "  else:\n",
        "    remove=queue.pop(0)\n",
        "    print(\"the poped element is :\",remove)\n",
        "    print(remove)\n",
        "\n",
        "def display():\n",
        "  print(queue)  \n",
        "\n",
        "while True:\n",
        "  print(\"Enter the choices 1.enqueue  2.dequeue 3.disply 4.quite\") \n",
        "  choice = int(input())\n",
        "  if choice==1:\n",
        "    enqueue()\n",
        "  elif choice==2:\n",
        "    dequeue()\n",
        "  elif choice==3:\n",
        "    display()\n",
        "  elif choice==4:\n",
        "    break  \n",
        "  else:\n",
        "    print(\"Please choice correctley \")     \n",
        "\n",
        "  "
      ]
    },
    {
      "cell_type": "markdown",
      "metadata": {
        "id": "JIDz8kNs_5LR"
      },
      "source": [
        "# **# LIST METHODS**"
      ]
    },
    {
      "cell_type": "code",
      "execution_count": null,
      "metadata": {
        "id": "B7uWCIPg_3Rm",
        "colab": {
          "base_uri": "https://localhost:8080/"
        },
        "outputId": "199dfb15-c692-48fd-8a5e-5af7b3602049"
      },
      "outputs": [
        {
          "output_type": "stream",
          "name": "stdout",
          "text": [
            "150\n",
            "[2200, 2350, 5000, 2130, 2190]\n",
            "[2200, 2350, 5000, 2130, 2190, 9999]\n",
            "[2350, 5000, 2130, 2190, 9999]\n",
            "[5000, 2130, 2190, 9999]\n",
            "[5000, 2130, 2190, 9999, 2005]\n",
            "5\n",
            "None\n",
            "[2005, 2130, 2190, 5000, 9999]\n",
            "125\n",
            "True\n",
            "the expense is exist 2005\n",
            "[2005, 2130, 2190, 3000, 9999]\n"
          ]
        }
      ],
      "source": [
        "exp=[2200,2350,2600,2130,2190]\n",
        "print(exp[1]-exp[0])\n",
        "exp[2]=5000\n",
        "print(exp)\n",
        "exp.append(9999)\n",
        "print(exp)\n",
        "exp.remove(2200)\n",
        "print(exp)\n",
        "exp.pop(0)\n",
        "print(exp)\n",
        "exp.insert(6,2005)\n",
        "print(exp)\n",
        "lenght=len(exp)\n",
        "print(lenght)\n",
        "sort=exp.sort()\n",
        "print(sort)\n",
        "print(exp)\n",
        "print(exp[1]-exp[0])\n",
        "print(2005 in exp)\n",
        "for i in exp:\n",
        "    if i==2005:\n",
        "        print('the expense is exist',i)\n",
        "exp[3]=exp[3]-2000\n",
        "print(exp)"
      ]
    },
    {
      "cell_type": "markdown",
      "metadata": {
        "id": "aFXkVILNyBfw"
      },
      "source": [
        "# **3. linked list traversal and adding element to ll**"
      ]
    },
    {
      "cell_type": "code",
      "execution_count": null,
      "metadata": {
        "colab": {
          "base_uri": "https://localhost:8080/"
        },
        "id": "eDbBonjIx4xf",
        "outputId": "ac56793e-f16e-4267-d584-da6b57641004"
      },
      "outputs": [
        {
          "name": "stdout",
          "output_type": "stream",
          "text": [
            "10\n"
          ]
        }
      ],
      "source": [
        "class Node:\n",
        "    def __init__(self,data):\n",
        "        self.data=data\n",
        "        self.ref=None\n",
        "class linkedlist:\n",
        "    def __init__(self):\n",
        "        self.head=None\n",
        "    \n",
        "    def print(self):\n",
        "        if self.head is None:\n",
        "            print(\"linked list is empty\")\n",
        "        else:\n",
        "            n=self.head\n",
        "            while n is not None:\n",
        "                print(n.data)\n",
        "                n=n.ref\n",
        "        \n",
        "    def add(self,data):\n",
        "        new_node=Node(data)\n",
        "        new_node.ref=self.head\n",
        "        self.head=new_node\n",
        "    \n",
        "ll=linkedlist()\n",
        "ll.add(10)\n",
        "ll.print()"
      ]
    },
    {
      "cell_type": "markdown",
      "metadata": {
        "id": "yLKSZyyQy6f4"
      },
      "source": [
        "# **CALCULATOR IN ONLY ONE LINE**"
      ]
    },
    {
      "cell_type": "code",
      "source": [
        "while True:\n",
        "  try:\n",
        "    num=eval(input(\"Enter the no's to be calculated with OPERATION :  \"))\n",
        "    print(num)\n",
        "  except Exception as e:\n",
        "    print(\"PLEASE ENTER YOUR NUMBER !!\")"
      ],
      "metadata": {
        "id": "iC_zKRbx62P2"
      },
      "execution_count": null,
      "outputs": []
    },
    {
      "cell_type": "markdown",
      "source": [
        "# **Doublylinked list create,Traversal,adding @ begining and end**"
      ],
      "metadata": {
        "id": "qvHS8JdX4hsL"
      }
    },
    {
      "cell_type": "code",
      "source": [
        "\n",
        "class Node:\n",
        "    def __init__(self,data):\n",
        "        self.data=data\n",
        "        self.nref=None\n",
        "        self.prev=None\n",
        "    \n",
        "class doublylinklist:\n",
        "    def __init__(self):\n",
        "        self.head=None\n",
        "        \n",
        "    def Traversal(self):\n",
        "        if self.head is None:\n",
        "            print(\"the ll is EMPTY! \")\n",
        "        else:\n",
        "            n=self.head\n",
        "            while n is not None:\n",
        "                print(n.data, \"--->\")\n",
        "                n=n.nref\n",
        "                \n",
        "    def insert(self,data):\n",
        "        if self.head is None:\n",
        "            new_node=Node(data)\n",
        "            self.head=new_node\n",
        "        else:\n",
        "            print('empty')\n",
        "    \n",
        "    def insert_begi(self,data):\n",
        "        new_node=Node(data)\n",
        "        if self.head is None:\n",
        "            self.head=new_node\n",
        "        \n",
        "        else:\n",
        "            new_node.nref=self.head\n",
        "            self.head.pref=new_node\n",
        "            self.head=new_node\n",
        "    \n",
        "    def insert_end(self,data):\n",
        "        new_node=Node(data)\n",
        "        if self.head is None:\n",
        "            self.head=new_node\n",
        "        else:\n",
        "            n=self.head\n",
        "            while n.nref is not None:\n",
        "                n=n.nref\n",
        "            n.nref=new_node\n",
        "            new_node.prev=n       \n",
        "                \n",
        "ll=doublylinklist()\n",
        "ll.insert(10)\n",
        "ll.insert_begi(40)\n",
        "ll.insert_end(300)\n",
        "ll.Traversal()"
      ],
      "metadata": {
        "colab": {
          "base_uri": "https://localhost:8080/"
        },
        "id": "S_DYnuhr4-AH",
        "outputId": "13398d62-621d-4e11-e331-e07514223086"
      },
      "execution_count": null,
      "outputs": [
        {
          "output_type": "stream",
          "name": "stdout",
          "text": [
            "40 --->\n",
            "10 --->\n",
            "300 --->\n"
          ]
        }
      ]
    },
    {
      "cell_type": "markdown",
      "source": [
        "## **TREE AND IT'S OPERATIONS, TRAVERSAL,SEARCH, MAX_VALUE, MIN_VALUE**"
      ],
      "metadata": {
        "id": "r9ruyl2YySn2"
      }
    },
    {
      "cell_type": "code",
      "source": [
        "class bst:\n",
        "\n",
        "  def __init__(self, key):  \n",
        "    self.key = key\n",
        "    self.lchild = None\n",
        "    self.rchild = None\n",
        "\n",
        "  def insert(self, data):\n",
        "    if self.key is None:\n",
        "     self.key = data         # self.key=root node\n",
        "     return\n",
        "    if self.key == data:\n",
        "      return\n",
        "    if data < self.key:\n",
        "      if self.lchild:\n",
        "        self.lchild.insert(data)    #recursion\n",
        "      else:\n",
        "        self.lchild = bst(data)\n",
        "    else:\n",
        "      if self.rchild:\n",
        "        self.rchild.insert(data)    #recursion\n",
        "      else:\n",
        "        self.rchild = bst(data)\n",
        "\n",
        "  def search(self, data):\n",
        "    if data == self.key:\n",
        "      print(\"Key found\")\n",
        "      return\n",
        "    if data < self.key:\n",
        "      if self.lchild:\n",
        "        self.lchild.search(data)   #recursion\n",
        "\n",
        "      else:\n",
        "        print(\"Key will not found\")\n",
        "    else:\n",
        "      if self.rchild:\n",
        "        self.rchild.search(data)   #recursion\n",
        "\n",
        "      else:\n",
        "        print(\"Key not found\")\n",
        "\n",
        "  def preorder(self):\n",
        "    print(self.key, end=\" \")\n",
        "    if self.lchild:                #if lchild present then its executes\n",
        "      self.lchild.preorder()       #recursion\n",
        "    if self.rchild:\n",
        "      self.rchild.preorder()\n",
        "\n",
        "  def inorder(self):\n",
        "    if self.lchild:\n",
        "      self.lchild.inorder()\n",
        "    print(self.key, end=\" \")\n",
        "    if self.rchild:\n",
        "      self.rchild.inorder()\n",
        "\n",
        "  def postorder(self):\n",
        "    if self.lchild:\n",
        "      self.lchild.postorder()\n",
        "    if self.rchild:\n",
        "      self.rchild.postorder()\n",
        "    print(self.key, end=\" \")\n",
        "\n",
        "  def min_value(self):\n",
        "    current = self\n",
        "    while current.lchild: #if lchild present, it will executes until lchild pare is null\n",
        "      current = current.lchild\n",
        "    print(\"the minimum value is: \", current.key)\n",
        "\n",
        "  def max_value(self):\n",
        "    current = self\n",
        "    while current.rchild:\n",
        "      current = current.rchild\n",
        "    print(\"the maximum value is :  \", current.key)\n",
        "\n",
        "\n",
        "root = bst(10)\n",
        "list = [6, 3, 1, 6, 98, 3, 7, 200]\n",
        "for i in list:\n",
        "  root.insert(i)\n",
        "print(\"pre-order traversal:  \")\n",
        "root.preorder()\n",
        "print()\n",
        "print(\"post-order traversal: \")\n",
        "root.inorder()\n",
        "print()\n",
        "print(\"post-order terversal: \")\n",
        "root.postorder()\n",
        "print()\n",
        "root.min_value()\n",
        "root.max_value()\n"
      ],
      "metadata": {
        "colab": {
          "base_uri": "https://localhost:8080/"
        },
        "id": "qPmgesnxyMEr",
        "outputId": "bb02475e-a29f-42fd-aa63-49d708007f69"
      },
      "execution_count": null,
      "outputs": [
        {
          "output_type": "stream",
          "name": "stdout",
          "text": [
            "pre-order traversal:  \n",
            "10 6 3 1 7 98 200 \n",
            "post-order traversal: \n",
            "1 3 6 7 10 98 200 \n",
            "post-order terversal: \n",
            "1 3 7 6 200 98 10 \n",
            "the minimum value is:  1\n",
            "the maximum value is :   200\n"
          ]
        }
      ]
    },
    {
      "cell_type": "markdown",
      "source": [
        "# **HEAP MODULE AND ITS FUNCTIONS**\n",
        "\n",
        "*   Heap is a compete BT and it follows HEAP PROPERTY\n",
        "*   HEAP PROPERTY\n",
        "    1. MAX_HEAP\n",
        "      parent>=child\n",
        "    2.MIN_HEAP\n",
        "      paretn<=child\n"
      ],
      "metadata": {
        "id": "ykX3IzUbv-5S"
      }
    },
    {
      "cell_type": "code",
      "source": [
        "import heapq\n",
        "\n",
        "list=[10,20,30,40,50]\n",
        "heapq.heappush(list,70)\n",
        "list"
      ],
      "metadata": {
        "colab": {
          "base_uri": "https://localhost:8080/"
        },
        "id": "d-uGFjN4vZ-p",
        "outputId": "79194770-d2ea-4e9a-ffbc-b8636ddc1df5"
      },
      "execution_count": null,
      "outputs": [
        {
          "output_type": "execute_result",
          "data": {
            "text/plain": [
              "[10, 20, 30, 40, 50, 70]"
            ]
          },
          "metadata": {},
          "execution_count": 2
        }
      ]
    },
    {
      "cell_type": "code",
      "source": [
        "heapq.heappush(list,10)\n",
        "list"
      ],
      "metadata": {
        "colab": {
          "base_uri": "https://localhost:8080/"
        },
        "id": "zFJ-0jykwKw2",
        "outputId": "3e71d61e-b38b-4b7e-cccb-43d4e9761a13"
      },
      "execution_count": null,
      "outputs": [
        {
          "output_type": "execute_result",
          "data": {
            "text/plain": [
              "[10, 10, 10, 20, 50, 70, 30, 40]"
            ]
          },
          "metadata": {},
          "execution_count": 4
        }
      ]
    },
    {
      "cell_type": "code",
      "source": [
        "heapq.heappop(list)\n",
        "list"
      ],
      "metadata": {
        "colab": {
          "base_uri": "https://localhost:8080/"
        },
        "id": "1kvZYsERwVsq",
        "outputId": "e491c764-d422-4fd6-e9a7-50a3f4527cd1"
      },
      "execution_count": null,
      "outputs": [
        {
          "output_type": "execute_result",
          "data": {
            "text/plain": [
              "[20, 40, 30, 70, 50]"
            ]
          },
          "metadata": {},
          "execution_count": 9
        }
      ]
    },
    {
      "cell_type": "code",
      "source": [
        "heapq.heappushpop(list,80)\n"
      ],
      "metadata": {
        "colab": {
          "base_uri": "https://localhost:8080/"
        },
        "id": "sNiv87nCwoZE",
        "outputId": "4c310b9f-9cfb-4949-9f22-df91abff02b0"
      },
      "execution_count": null,
      "outputs": [
        {
          "output_type": "execute_result",
          "data": {
            "text/plain": [
              "20"
            ]
          },
          "metadata": {},
          "execution_count": 10
        }
      ]
    },
    {
      "cell_type": "code",
      "source": [
        "list"
      ],
      "metadata": {
        "colab": {
          "base_uri": "https://localhost:8080/"
        },
        "id": "-Pv4NzZsw2EB",
        "outputId": "83e342d1-83f2-4fe8-8cf1-15664c694d60"
      },
      "execution_count": null,
      "outputs": [
        {
          "output_type": "execute_result",
          "data": {
            "text/plain": [
              "[30, 40, 80, 70, 50]"
            ]
          },
          "metadata": {},
          "execution_count": 11
        }
      ]
    },
    {
      "cell_type": "code",
      "source": [
        "heapq.heapify(list)   # rearranges elements by mentaining heap property\n",
        "list"
      ],
      "metadata": {
        "colab": {
          "base_uri": "https://localhost:8080/"
        },
        "id": "CNGLF12Lw7pX",
        "outputId": "0d58f620-c2fe-4139-c2e5-09f83a2c6714"
      },
      "execution_count": null,
      "outputs": [
        {
          "output_type": "execute_result",
          "data": {
            "text/plain": [
              "[30, 40, 80, 70, 50]"
            ]
          },
          "metadata": {},
          "execution_count": 15
        }
      ]
    },
    {
      "cell_type": "code",
      "source": [
        "heapq.heapreplace(list,100)   #pop's the first element and pushes new entered"
      ],
      "metadata": {
        "colab": {
          "base_uri": "https://localhost:8080/"
        },
        "id": "fu6twmYoxQ3S",
        "outputId": "30a0a289-c2b3-4fff-a6f7-7e486d98d789"
      },
      "execution_count": null,
      "outputs": [
        {
          "output_type": "execute_result",
          "data": {
            "text/plain": [
              "30"
            ]
          },
          "metadata": {},
          "execution_count": 16
        }
      ]
    },
    {
      "cell_type": "code",
      "source": [
        "list"
      ],
      "metadata": {
        "colab": {
          "base_uri": "https://localhost:8080/"
        },
        "id": "8pnFiT21xigr",
        "outputId": "7930a33c-b90f-479b-9126-10106b7b68e5"
      },
      "execution_count": null,
      "outputs": [
        {
          "output_type": "execute_result",
          "data": {
            "text/plain": [
              "[40, 50, 80, 70, 100]"
            ]
          },
          "metadata": {},
          "execution_count": 17
        }
      ]
    },
    {
      "cell_type": "code",
      "source": [
        "heapq.nsmallest(2,list)"
      ],
      "metadata": {
        "colab": {
          "base_uri": "https://localhost:8080/"
        },
        "id": "Ttv9dO_GxltC",
        "outputId": "ca928093-a345-4b14-999d-2bee524f3389"
      },
      "execution_count": null,
      "outputs": [
        {
          "output_type": "execute_result",
          "data": {
            "text/plain": [
              "[40, 50]"
            ]
          },
          "metadata": {},
          "execution_count": 19
        }
      ]
    },
    {
      "cell_type": "code",
      "source": [
        "heapq.nlargest(3,list)"
      ],
      "metadata": {
        "colab": {
          "base_uri": "https://localhost:8080/"
        },
        "id": "IhfXNztCxzkt",
        "outputId": "86585736-47c9-414f-cd09-ec36530c92bb"
      },
      "execution_count": null,
      "outputs": [
        {
          "output_type": "execute_result",
          "data": {
            "text/plain": [
              "[100, 80, 70]"
            ]
          },
          "metadata": {},
          "execution_count": 20
        }
      ]
    },
    {
      "cell_type": "code",
      "source": [
        "list2=[4,3,2,6,5,9,8,1]\n",
        "for i in list2:\n",
        "  heapq.heapify(list2)\n",
        "print(list2)  "
      ],
      "metadata": {
        "colab": {
          "base_uri": "https://localhost:8080/"
        },
        "id": "0YFME9BjzCUx",
        "outputId": "35c95211-ff25-4ea9-8026-93448b7feb55"
      },
      "execution_count": null,
      "outputs": [
        {
          "output_type": "stream",
          "name": "stdout",
          "text": [
            "[1, 3, 2, 4, 5, 9, 8, 6]\n"
          ]
        }
      ]
    },
    {
      "cell_type": "markdown",
      "source": [
        "# **GRAPHS**"
      ],
      "metadata": {
        "id": "hdibVjGBQnOF"
      }
    },
    {
      "cell_type": "code",
      "source": [
        "def add_node(v):            # adding node using adjacency matrix\n",
        "  global count_nodes\n",
        "  if v in nodes:\n",
        "    print(v,'the node is already exist!!')\n",
        "  else:\n",
        "    count_nodes=count_nodes+ 1\n",
        "    nodes.append(v)\n",
        "    for n in graphs:\n",
        "      n.append(0)\n",
        "    temp=[]  \n",
        "    for i in range(count_nodes):\n",
        "      temp.append(0)\n",
        "    graphs.append(temp)   \n",
        "               \n",
        "\n",
        "def add_edge(v1,v2,cost):       #adding edge to weighted graphs using adjacency matrix\n",
        "  if v1 not in nodes:\n",
        "    print(v1,'the node does not exits in graphs!')\n",
        "  elif v2 not in nodes:\n",
        "    print(v2,\"OOPS node not exits in graphs!!\")\n",
        "  else:\n",
        "    index1=nodes.index(v1)       \n",
        "    index2=nodes.index(v2)\n",
        "    graphs[index1][index2]=cost  # make value 0 to cost in graphs\n",
        "    graphs[index2][index1]=cost\n",
        "\n",
        "def dlt_node(v):               # deleting node \n",
        "  global count_nodes\n",
        "  if v not in nodes:\n",
        "    print(v,\"node does not exist!\")\n",
        "  else:\n",
        "    index=nodes.index(v)       #fing index u want to dlt\n",
        "    count_nodes=count_nodes-1  #after dlt, decrement by 1\n",
        "    nodes.remove(v)            # remove node from nodes(list)\n",
        "    graphs.pop(index)\n",
        "    for i in graphs:           # also remove from graphs\n",
        "      i.pop(index)  \n",
        "\n",
        "def dlt_edge(v1,v2):\n",
        "  if v1 not in nodes:\n",
        "    print(v1,\" not exist\")\n",
        "  elif v2 not in nodes:\n",
        "    print(v2,\"not exist \")\n",
        "  else:\n",
        "    index1=nodes.index(v1)\n",
        "    index2=nodes.index(v2)\n",
        "    graphs[index1][index2]=0\n",
        "    graphs[index2][index1]=0    \n",
        "\n",
        "def print_matrix():            # printing\n",
        "  for i in range(count_nodes):\n",
        "    for j in range(count_nodes):\n",
        "      print(format(graphs[i][j],\"<3\"),end=\" \")     \n",
        "\n",
        "nodes=[]                        # nodes=list\n",
        "graphs=[]\n",
        "count_nodes=0                   # no of nodes\n",
        "print('before adding')\n",
        "print(nodes)\n",
        "print(graphs)\n",
        "add_node(\"A\")\n",
        "add_node('B')\n",
        "add_node(\"D\")\n",
        "add_edge(\"A\",\"B\",\"10\")\n",
        "add_edge(\"A\",\"D\",\"30\")\n",
        "dlt_node(\"B\")\n",
        "print('graph after deleting:')\n",
        "print(graphs)\n",
        "dlt_edge(\"A\",\"D\")\n",
        "print('after adding')\n",
        "print(\"nodes : \",nodes)\n",
        "print(graphs) \n",
        "print_matrix()\n",
        "  "
      ],
      "metadata": {
        "colab": {
          "base_uri": "https://localhost:8080/"
        },
        "id": "bH4gBAmbIy3q",
        "outputId": "2b9828c1-d9cc-4ef5-e500-7dc79504f9f5"
      },
      "execution_count": null,
      "outputs": [
        {
          "output_type": "stream",
          "name": "stdout",
          "text": [
            "before adding\n",
            "[]\n",
            "[]\n",
            "graph after deleting:\n",
            "[[0, '30'], ['30', 0]]\n",
            "after adding\n",
            "nodes :  ['A', 'D']\n",
            "[[0, 0], [0, 0]]\n",
            "0   0   0   0   "
          ]
        }
      ]
    },
    {
      "cell_type": "markdown",
      "source": [
        "# **Adding node using adjacency list(dictionary)**"
      ],
      "metadata": {
        "id": "7pqcUpZxgQTj"
      }
    },
    {
      "cell_type": "code",
      "source": [
        "def add_node(v):\n",
        "  if v in graph:\n",
        "    print(v,\": oops node is already exist!!\")\n",
        "  else:\n",
        "    graph[v]=[] \n",
        "\n",
        "\n",
        "def add_edge(v1,v2):  # adding edge using adjacency list\n",
        "  if v1  not in graph:\n",
        "    print(v1,\": the node does not exist \")\n",
        "  elif v2 not in graph:\n",
        "    print(v2,\": node not exist \")\n",
        "  else:\n",
        "    #list1=[v2,cost]\n",
        "    #list2=[v1,cost]\n",
        "    graph[v1].append(v2)\n",
        "    graph[v2].append(v1)  \n",
        "\n",
        "def dlt_node(v):\n",
        "  if v not in graph:\n",
        "    print(v,'not exist!!')\n",
        "  else:\n",
        "    graph.pop(v)\n",
        "    for i in graph:\n",
        "      list=graph[i]\n",
        "      for v in list:\n",
        "        list.remove(v) \n",
        "\n",
        "'''def DFS(node,visited,graph): # Depth first search\n",
        "   if node not in graph:\n",
        "     print(\" not exist!!\")\n",
        "     return\n",
        "   if node not in visited:\n",
        "     print(node)\n",
        "     visited.add(node)\n",
        "     for i in graph[node]:\n",
        "       DFS(i,visited,graph)\n",
        "'''\n",
        "def DFSiterator(node,graph):\n",
        "  visited=set()\n",
        "  if node not in graph:\n",
        "    print(node,\"not exist!!\")\n",
        "    return\n",
        "  stack=[]\n",
        "  stack.append(node)\n",
        "  while stack:\n",
        "    current=stack.pop()\n",
        "    if current not in visited:\n",
        "         print(current)\n",
        "    visited.add(current)\n",
        "    for i in graph[current]:\n",
        "      stack.append(i)  \n",
        "\n",
        "#visited=set()\n",
        "graph={}\n",
        "print(\"nodes: \")\n",
        "add_node(\"A\")\n",
        "add_node(\"B\")\n",
        "add_node(\"C\")\n",
        "add_node(\"D\")\n",
        "add_node(\"E\")\n",
        "add_node(\"F\")\n",
        "print(graph)\n",
        "print(\"nodes with edges: \")\n",
        "add_edge(\"A\",\"B\")\n",
        "add_edge(\"A\",\"C\")\n",
        "add_edge(\"A\",\"D\")\n",
        "add_edge(\"B\",\"D\")\n",
        "add_edge(\"D\",\"E\")\n",
        "add_edge(\"E\",\"F\")\n",
        "#dlt_node(\"A\")\n",
        "print(graph)\n",
        "print(\"DFS is :  \")\n",
        "#DFS(\"F\",visited,graph)\n",
        "DFSiterator(\"A\",graph)\n"
      ],
      "metadata": {
        "colab": {
          "base_uri": "https://localhost:8080/"
        },
        "id": "25V7C9jYgOII",
        "outputId": "ef902d90-b6fa-43af-f8ec-f7359ade25aa"
      },
      "execution_count": null,
      "outputs": [
        {
          "output_type": "stream",
          "name": "stdout",
          "text": [
            "nodes: \n",
            "{'A': [], 'B': [], 'C': [], 'D': [], 'E': [], 'F': []}\n",
            "nodes with edges: \n",
            "{'A': ['B', 'C', 'D'], 'B': ['A', 'D'], 'C': ['A'], 'D': ['A', 'B', 'E'], 'E': ['D', 'F'], 'F': ['E']}\n",
            "DFS is :  \n",
            "A\n",
            "D\n",
            "E\n",
            "F\n"
          ]
        }
      ]
    }
  ],
  "metadata": {
    "colab": {
      "provenance": [],
      "authorship_tag": "ABX9TyMIXmVRFT3ix4s+WYtOacxQ",
      "include_colab_link": true
    },
    "kernelspec": {
      "display_name": "Python 3",
      "name": "python3"
    },
    "language_info": {
      "name": "python"
    }
  },
  "nbformat": 4,
  "nbformat_minor": 0
}